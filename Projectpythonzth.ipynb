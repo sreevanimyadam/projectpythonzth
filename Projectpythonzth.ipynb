{
  "nbformat": 4,
  "nbformat_minor": 0,
  "metadata": {
    "colab": {
      "name": "Projectpythonzth.ipynb",
      "provenance": [],
      "authorship_tag": "ABX9TyMwLlFB0KgPiujfrqpDSzHk",
      "include_colab_link": true
    },
    "kernelspec": {
      "name": "python3",
      "display_name": "Python 3"
    },
    "language_info": {
      "name": "python"
    }
  },
  "cells": [
    {
      "cell_type": "markdown",
      "metadata": {
        "id": "view-in-github",
        "colab_type": "text"
      },
      "source": [
        "<a href=\"https://colab.research.google.com/github/sreevanimyadam/projectpythonzth/blob/main/Projectpythonzth.ipynb\" target=\"_parent\"><img src=\"https://colab.research.google.com/assets/colab-badge.svg\" alt=\"Open In Colab\"/></a>"
      ]
    },
    {
      "cell_type": "code",
      "metadata": {
        "colab": {
          "base_uri": "https://localhost:8080/"
        },
        "id": "2gqpdnCdhWFv",
        "outputId": "fa733671-9ae8-4089-ef13-e485b21ff3df"
      },
      "source": [
        "c= int(input('enter degree celcius'))\n",
        "f= ((c*9)/5)+32\n",
        "print('temperature in farenheit is: ',int(f))"
      ],
      "execution_count": null,
      "outputs": [
        {
          "output_type": "stream",
          "text": [
            "enter degree celcius50\n",
            "temperature in farenheit is:  122\n"
          ],
          "name": "stdout"
        }
      ]
    },
    {
      "cell_type": "code",
      "metadata": {
        "id": "Lnc62pVfjIy4"
      },
      "source": [
        ""
      ],
      "execution_count": null,
      "outputs": []
    }
  ]
}